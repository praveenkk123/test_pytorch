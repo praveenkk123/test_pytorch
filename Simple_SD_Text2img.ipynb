{
 "cells": [
  {
   "cell_type": "code",
   "execution_count": 1,
   "id": "b1b91101-2af2-4caa-ae9b-ae807b98a9ac",
   "metadata": {},
   "outputs": [
    {
     "data": {
      "application/vnd.jupyter.widget-view+json": {
       "model_id": "7d0dd6b5ce4d4737aa53709d4a1ededc",
       "version_major": 2,
       "version_minor": 0
      },
      "text/plain": [
       "Loading pipeline components...:   0%|          | 0/7 [00:00<?, ?it/s]"
      ]
     },
     "metadata": {},
     "output_type": "display_data"
    },
    {
     "name": "stdout",
     "output_type": "stream",
     "text": [
      "Using device: xpu\n"
     ]
    },
    {
     "data": {
      "application/vnd.jupyter.widget-view+json": {
       "model_id": "c98884ece46a43a78d91d2d024a94132",
       "version_major": 2,
       "version_minor": 0
      },
      "text/plain": [
       "Text(value='', description='Prompt:', placeholder='Enter your prompt')"
      ]
     },
     "metadata": {},
     "output_type": "display_data"
    },
    {
     "data": {
      "application/vnd.jupyter.widget-view+json": {
       "model_id": "33436ecabdc94f69a0d524ddd3225384",
       "version_major": 2,
       "version_minor": 0
      },
      "text/plain": [
       "Button(description='Generate Image', style=ButtonStyle())"
      ]
     },
     "metadata": {},
     "output_type": "display_data"
    },
    {
     "data": {
      "application/vnd.jupyter.widget-view+json": {
       "model_id": "457de1def24748b098d7c9d72b8f3a96",
       "version_major": 2,
       "version_minor": 0
      },
      "text/plain": [
       "Output()"
      ]
     },
     "metadata": {},
     "output_type": "display_data"
    }
   ],
   "source": [
    "from ipywidgets import Text, Button, Output\n",
    "from IPython.display import display\n",
    "import torch\n",
    "from diffusers import StableDiffusionPipeline\n",
    "import numpy as np\n",
    "\n",
    "# Initialize the Stable Diffusion pipeline\n",
    "model_id = \"CompVis/stable-diffusion-v1-4\"\n",
    "pipe = StableDiffusionPipeline.from_pretrained(model_id, torch_dtype=torch.float16)\n",
    "\n",
    "# Check for Intel XPU device\n",
    "device = torch.device(\"xpu\" if torch.xpu.is_available() else \"cpu\")\n",
    "print(f\"Using device: {device}\")\n",
    "\n",
    "# Move the pipeline to the XPU if available, otherwise use CPU\n",
    "pipe.to(device)\n",
    "\n",
    "# Create a text input widget for the user prompt\n",
    "prompt = Text(value='', placeholder='Enter your prompt', description='Prompt:', disabled=False)\n",
    "\n",
    "# Create a button to generate the image\n",
    "button = Button(description='Generate Image')\n",
    "\n",
    "# Create an output widget to display the generated image\n",
    "output = Output()\n",
    "\n",
    "# Define a function to generate the image when the button is clicked\n",
    "def generate_image(b):\n",
    "    with output:\n",
    "        output.clear_output(wait=True)\n",
    "        # Get the user prompt\n",
    "        user_prompt = prompt.value\n",
    "        \n",
    "        # Generate the image using the Stable Diffusion pipeline\n",
    "        image = pipe(user_prompt).images[0]\n",
    "        \n",
    "        # Display the generated image\n",
    "        display(image)\n",
    "\n",
    "# Link the button to the generate_image function\n",
    "button.on_click(generate_image)\n",
    "\n",
    "# Display the widgets\n",
    "display(prompt)\n",
    "display(button)\n",
    "display(output)"
   ]
  },
  {
   "cell_type": "code",
   "execution_count": null,
   "id": "46f69a04-321d-42b4-b4aa-6f34fe649529",
   "metadata": {},
   "outputs": [],
   "source": []
  }
 ],
 "metadata": {
  "kernelspec": {
   "display_name": "Python 3 (ipykernel)",
   "language": "python",
   "name": "python3"
  },
  "language_info": {
   "codemirror_mode": {
    "name": "ipython",
    "version": 3
   },
   "file_extension": ".py",
   "mimetype": "text/x-python",
   "name": "python",
   "nbconvert_exporter": "python",
   "pygments_lexer": "ipython3",
   "version": "3.12.9"
  }
 },
 "nbformat": 4,
 "nbformat_minor": 5
}
