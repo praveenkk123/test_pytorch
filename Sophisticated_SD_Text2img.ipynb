{
 "cells": [
  {
   "cell_type": "code",
   "execution_count": 1,
   "id": "44a49aa3-e3f9-4dd1-898e-40788ca6d58d",
   "metadata": {},
   "outputs": [
    {
     "data": {
      "text/html": [
       "<style>.widget-label {text-align: left;}</style>"
      ],
      "text/plain": [
       "<IPython.core.display.HTML object>"
      ]
     },
     "metadata": {},
     "output_type": "display_data"
    },
    {
     "data": {
      "text/html": [
       "<style>.widget-text {text-align: left;}</style>"
      ],
      "text/plain": [
       "<IPython.core.display.HTML object>"
      ]
     },
     "metadata": {},
     "output_type": "display_data"
    },
    {
     "data": {
      "application/vnd.jupyter.widget-view+json": {
       "model_id": "627b3dd008264b4894d2cb45ff4f5258",
       "version_major": 2,
       "version_minor": 0
      },
      "text/plain": [
       "Loading pipeline components...:   0%|          | 0/7 [00:00<?, ?it/s]"
      ]
     },
     "metadata": {},
     "output_type": "display_data"
    },
    {
     "name": "stdout",
     "output_type": "stream",
     "text": [
      "Using device: xpu\n"
     ]
    },
    {
     "data": {
      "application/vnd.jupyter.widget-view+json": {
       "model_id": "e199074a9068444c9394aa9f299cbd72",
       "version_major": 2,
       "version_minor": 0
      },
      "text/plain": [
       "Text(value='', description='Prompt:', layout=Layout(width='500px'), placeholder='Enter your prompt', style=Tex…"
      ]
     },
     "metadata": {},
     "output_type": "display_data"
    },
    {
     "data": {
      "application/vnd.jupyter.widget-view+json": {
       "model_id": "81655dd6579f49e6a71016c87ee8bad7",
       "version_major": 2,
       "version_minor": 0
      },
      "text/plain": [
       "Dropdown(description='Model:', layout=Layout(width='600px'), options=('Stable Diffusion v1.4', 'Stable Diffusi…"
      ]
     },
     "metadata": {},
     "output_type": "display_data"
    },
    {
     "data": {
      "application/vnd.jupyter.widget-view+json": {
       "model_id": "7406e39de0584b93bafd5c810be0929b",
       "version_major": 2,
       "version_minor": 0
      },
      "text/plain": [
       "IntSlider(value=50, description='Number of iterations:', layout=Layout(width='600px'), min=1, style=SliderStyl…"
      ]
     },
     "metadata": {},
     "output_type": "display_data"
    },
    {
     "data": {
      "application/vnd.jupyter.widget-view+json": {
       "model_id": "4c2e1febc6d34028b04c12d08bdd6b91",
       "version_major": 2,
       "version_minor": 0
      },
      "text/plain": [
       "IntSlider(value=7, description='Guidance scale:', layout=Layout(width='600px'), max=15, min=1, style=SliderSty…"
      ]
     },
     "metadata": {},
     "output_type": "display_data"
    },
    {
     "data": {
      "application/vnd.jupyter.widget-view+json": {
       "model_id": "1182272aa77d4bc690dfdc11b4a00379",
       "version_major": 2,
       "version_minor": 0
      },
      "text/plain": [
       "IntSlider(value=42, description='Seed:', layout=Layout(width='600px'), max=100000, style=SliderStyle(descripti…"
      ]
     },
     "metadata": {},
     "output_type": "display_data"
    },
    {
     "data": {
      "application/vnd.jupyter.widget-view+json": {
       "model_id": "acd54b6c4b3b42c0b188f94d0d2728bf",
       "version_major": 2,
       "version_minor": 0
      },
      "text/plain": [
       "FloatSlider(value=0.8, description='Prompt strength:', layout=Layout(width='600px'), max=1.0, step=0.01, style…"
      ]
     },
     "metadata": {},
     "output_type": "display_data"
    },
    {
     "data": {
      "application/vnd.jupyter.widget-view+json": {
       "model_id": "cd32f3566daf4ce99cb65c4c7fc48171",
       "version_major": 2,
       "version_minor": 0
      },
      "text/plain": [
       "Dropdown(description='Sampling method:', layout=Layout(width='600px'), options=('Euler', 'Euler-Ancestral', 'K…"
      ]
     },
     "metadata": {},
     "output_type": "display_data"
    },
    {
     "data": {
      "application/vnd.jupyter.widget-view+json": {
       "model_id": "0a0383b343e1443e9f3e910f29a914c1",
       "version_major": 2,
       "version_minor": 0
      },
      "text/plain": [
       "IntSlider(value=256, description='Latent space dimensions:', layout=Layout(width='600px'), max=512, min=128, s…"
      ]
     },
     "metadata": {},
     "output_type": "display_data"
    },
    {
     "data": {
      "application/vnd.jupyter.widget-view+json": {
       "model_id": "058ef0b8b9aa49a8b0c316087d433cce",
       "version_major": 2,
       "version_minor": 0
      },
      "text/plain": [
       "Button(description='Generate Image', style=ButtonStyle(button_color='blue', text_color='white'))"
      ]
     },
     "metadata": {},
     "output_type": "display_data"
    },
    {
     "data": {
      "application/vnd.jupyter.widget-view+json": {
       "model_id": "b08b421100d1412397062d610f1b07a0",
       "version_major": 2,
       "version_minor": 0
      },
      "text/plain": [
       "Output()"
      ]
     },
     "metadata": {},
     "output_type": "display_data"
    }
   ],
   "source": [
    "from ipywidgets import Text, Button, Output, Dropdown, IntSlider, FloatSlider\n",
    "from IPython.display import display\n",
    "from IPython.core.display import HTML\n",
    "import torch\n",
    "from diffusers import StableDiffusionPipeline\n",
    "import numpy as np\n",
    "\n",
    "# Format the widget options\n",
    "display(HTML(\"<style>.widget-label {text-align: left;}</style>\"))\n",
    "display(HTML(\"<style>.widget-text {text-align: left;}</style>\"))\n",
    "\n",
    "# Create a dropdown menu for model choice\n",
    "model_choices = {\n",
    "    \"Stable Diffusion v1.4\": \"CompVis/stable-diffusion-v1-4\",\n",
    "    \"Stable Diffusion v1.5\": \"CompVis/stable-diffusion-v1-5\",\n",
    "    \"Stable Diffusion v2.0\": \"stabilityai/stable-diffusion-2-1-base\"\n",
    "}\n",
    "model_dropdown = Dropdown(options=list(model_choices.keys()), value=list(model_choices.keys())[0], description='Model:', layout={'width': '600px'}, style={'description_width': 'initial'})\n",
    "\n",
    "# Create an integer slider for the number of iterations\n",
    "num_iterations_slider = IntSlider(min=1, max=100, value=50, description='Number of iterations:', layout={'width': '600px'}, style={'description_width': 'initial'})\n",
    "\n",
    "# Create a float slider for the guidance scale\n",
    "guidance_scale_slider = IntSlider(min=1, max=15.0, value=7.5, step=1, description='Guidance scale:', layout={'width': '600px'}, style={'description_width': 'initial'})\n",
    "\n",
    "# Create an integer slider for the seed\n",
    "seed_slider = IntSlider(min=0, max=100000, value=42, description='Seed:', layout={'width': '600px'}, style={'description_width': 'initial'})\n",
    "\n",
    "# Create a float slider for the prompt strength\n",
    "prompt_strength_slider = FloatSlider(min=0.0, max=1.0, value=0.8, step=0.01, description='Prompt strength:', layout={'width': '600px'}, style={'description_width': 'initial'})\n",
    "\n",
    "# Create a dropdown menu for the sampling method\n",
    "sampling_method_choices = {\n",
    "    \"Euler\": \"euler\",\n",
    "    \"Euler-Ancestral\": \"euler_a\",\n",
    "    \"K_LMS\": \"k_lms\",\n",
    "    \"DDIM\": \"ddim\",\n",
    "    \"DPM2\": \"dpm2\",\n",
    "    \"PLMS\": \"plms\"\n",
    "}\n",
    "sampling_method_dropdown = Dropdown(options=list(sampling_method_choices.keys()), value=list(sampling_method_choices.keys())[0], description='Sampling method:', layout={'width': '600px'}, style={'description_width': 'initial'})\n",
    "\n",
    "# Create an integer slider for the latent space dimensions\n",
    "latent_space_dimensions_slider = IntSlider(min=128, max=512, value=256, description='Latent space dimensions:', layout={'width': '600px'}, style={'description_width': 'initial'})\n",
    "\n",
    "# Initialize the Stable Diffusion pipeline with the default model\n",
    "model_id = model_choices[model_dropdown.value]\n",
    "pipe = StableDiffusionPipeline.from_pretrained(model_id, torch_dtype=torch.float16)\n",
    "\n",
    "# Check for Intel XPU device\n",
    "device = torch.device(\"xpu\" if torch.xpu.is_available() else \"cpu\")\n",
    "print(f\"Using device: {device}\")\n",
    "# Move the pipeline to the XPU if available, otherwise use CPU\n",
    "pipe.to(device)\n",
    "\n",
    "# Create a text input widget for the user prompt\n",
    "prompt = Text(value='', placeholder='Enter your prompt', description='Prompt:', disabled=False, layout={'width': '500px'}, style={'description_width': 'initial'})\n",
    "\n",
    "# Create a button to generate the image\n",
    "button = Button(description='Generate Image', style={'button_color': 'blue', 'text_color': 'white'})\n",
    "\n",
    "# Create an output widget to display the generated image\n",
    "output = Output()\n",
    "\n",
    "# Define a function to update the pipeline when the model is changed\n",
    "def update_model(change):\n",
    "    global pipe\n",
    "    model_id = model_choices[change.new]\n",
    "    pipe = StableDiffusionPipeline.from_pretrained(model_id, torch_dtype=torch.float16)\n",
    "    pipe.to(device)\n",
    "\n",
    "# Link the model dropdown to the update_model function\n",
    "model_dropdown.observe(update_model, names='value')\n",
    "\n",
    "# Define a function to generate the image when the button is clicked\n",
    "def generate_image(b):\n",
    "    with output:\n",
    "        output.clear_output(wait=True)\n",
    "        # Get the user prompt\n",
    "        user_prompt = prompt.value\n",
    "        # Get the number of iterations\n",
    "        num_iterations = num_iterations_slider.value\n",
    "        # Get the guidance scale\n",
    "        guidance_scale = guidance_scale_slider.value\n",
    "        # Get the seed\n",
    "        seed = seed_slider.value\n",
    "        # Get the prompt strength\n",
    "        prompt_strength = prompt_strength_slider.value\n",
    "        # Get the sampling method\n",
    "        sampling_method = sampling_method_choices[sampling_method_dropdown.value]\n",
    "        # Get the latent space dimensions\n",
    "        latent_space_dimensions = latent_space_dimensions_slider.value\n",
    "        # Generate the image using the Stable Diffusion pipeline\n",
    "        torch.manual_seed(seed)\n",
    "        torch.xpu.empty_cache()\n",
    "        image = pipe(user_prompt, num_inference_steps=num_iterations, guidance_scale=guidance_scale, height=640, width=640, prompt_strength=prompt_strength).images[0]\n",
    "        # Display the generated image\n",
    "        display(image)\n",
    "\n",
    "# Link the button to the generate_image function\n",
    "button.on_click(generate_image)\n",
    "\n",
    "# Display the widgets\n",
    "display(prompt)\n",
    "display(model_dropdown)\n",
    "display(num_iterations_slider)\n",
    "display(guidance_scale_slider)\n",
    "display(seed_slider)\n",
    "display(prompt_strength_slider)\n",
    "display(sampling_method_dropdown)\n",
    "display(latent_space_dimensions_slider)\n",
    "display(button)\n",
    "display(output)"
   ]
  },
  {
   "cell_type": "markdown",
   "id": "93911ce2-696d-4ddc-8493-b512140faffa",
   "metadata": {},
   "source": [
    "#### Note\n",
    "* If you run out of memory restart your kernel."
   ]
  },
  {
   "attachments": {},
   "cell_type": "markdown",
   "id": "4e0f3a3e-d115-4b94-8d6c-438711269d09",
   "metadata": {},
   "source": [
    "#### Iteration \n",
    "* This refers to the repetitive cycle starting from generating random noise based on text input. Each step eliminates some noise, and with an increase in the number of iteration steps, higher-quality images are produced\n",
    "\n",
    "#### Guidance Scale\n",
    "* A value of 0 gives random images and does not consider your prompt at all.\n",
    "* Lower values give more loosely interpreted images.\n",
    "* Higher values give images which represent your prompt more precisely. \n",
    "* Values from 5 to 15 seem to be the range consensus.\n",
    "\n",
    "#### Seed\n",
    "\n",
    "* This variable controls the random seed used to initialize the model's weights. Changing the seed can result in different output images, even with the same input prompt\n",
    "\n",
    "#### Prompt Strength\n",
    "\n",
    "* This variable controls the strength of the input prompt. A higher prompt strength can lead to more realistic images, but can also introduce artifacts.\n",
    "\n",
    "#### Sampling Method\n",
    "\n",
    "* This variable controls the sampling method used to generate images. Common sampling methods include Euler, Euler-Ancestral, and DDIM.\n",
    "\n",
    "#### Latent Space Dimensions\n",
    "\n",
    "* This variable controls the dimensionality of the latent space used to represent images. Increasing the latent space dimensions can lead to more detailed images, but can also increase computation time."
   ]
  },
  {
   "cell_type": "code",
   "execution_count": null,
   "id": "a7e8c117-6173-423e-9252-b032cee5afcd",
   "metadata": {},
   "outputs": [],
   "source": []
  },
  {
   "cell_type": "code",
   "execution_count": null,
   "id": "fbb56349-c504-4dcb-8324-e0df46909282",
   "metadata": {},
   "outputs": [],
   "source": []
  }
 ],
 "metadata": {
  "kernelspec": {
   "display_name": "Python 3 (ipykernel)",
   "language": "python",
   "name": "python3"
  },
  "language_info": {
   "codemirror_mode": {
    "name": "ipython",
    "version": 3
   },
   "file_extension": ".py",
   "mimetype": "text/x-python",
   "name": "python",
   "nbconvert_exporter": "python",
   "pygments_lexer": "ipython3",
   "version": "3.12.9"
  }
 },
 "nbformat": 4,
 "nbformat_minor": 5
}
